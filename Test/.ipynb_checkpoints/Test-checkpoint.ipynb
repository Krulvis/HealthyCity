{
 "cells": [
  {
   "cell_type": "code",
   "execution_count": 85,
   "metadata": {},
   "outputs": [],
   "source": [
    "import pandas as pd\n",
    "import matplotlib.pyplot as plt"
   ]
  },
  {
   "cell_type": "markdown",
   "metadata": {},
   "source": [
    "Load data"
   ]
  },
  {
   "cell_type": "code",
   "execution_count": 86,
   "metadata": {},
   "outputs": [],
   "source": [
    "datapath = '../datasets/Sweco/buurt_all_new.csv'\n",
    "data = pd.read_csv(datapath, sep=',', header=[0], index_col=[0])"
   ]
  },
  {
   "cell_type": "code",
   "execution_count": 87,
   "metadata": {},
   "outputs": [
    {
     "data": {
      "text/html": [
       "<div>\n",
       "<style scoped>\n",
       "    .dataframe tbody tr th:only-of-type {\n",
       "        vertical-align: middle;\n",
       "    }\n",
       "\n",
       "    .dataframe tbody tr th {\n",
       "        vertical-align: top;\n",
       "    }\n",
       "\n",
       "    .dataframe thead th {\n",
       "        text-align: right;\n",
       "    }\n",
       "</style>\n",
       "<table border=\"1\" class=\"dataframe\">\n",
       "  <thead>\n",
       "    <tr style=\"text-align: right;\">\n",
       "      <th></th>\n",
       "      <th>year</th>\n",
       "      <th>gm_naam</th>\n",
       "      <th>gwb_code</th>\n",
       "      <th>gwb_code_10_x</th>\n",
       "      <th>gwb_code_10_y</th>\n",
       "      <th>gwb_code_8</th>\n",
       "      <th>regio</th>\n",
       "      <th>fine_dust</th>\n",
       "      <th>grime</th>\n",
       "      <th>nitrogen_dioxide</th>\n",
       "      <th>...</th>\n",
       "      <th>wcorpw</th>\n",
       "      <th>woning</th>\n",
       "      <th>woz</th>\n",
       "      <th>00_14</th>\n",
       "      <th>15_24</th>\n",
       "      <th>1gezw</th>\n",
       "      <th>25_44</th>\n",
       "      <th>3km_sc</th>\n",
       "      <th>45_64</th>\n",
       "      <th>65_oo</th>\n",
       "    </tr>\n",
       "  </thead>\n",
       "  <tbody>\n",
       "    <tr>\n",
       "      <th>0</th>\n",
       "      <td>2013</td>\n",
       "      <td>Appingedam</td>\n",
       "      <td>WK000300</td>\n",
       "      <td>WK000300</td>\n",
       "      <td>BU00030000</td>\n",
       "      <td>300</td>\n",
       "      <td>Wijk 00</td>\n",
       "      <td>NaN</td>\n",
       "      <td>0.45</td>\n",
       "      <td>12.50</td>\n",
       "      <td>...</td>\n",
       "      <td>42.0</td>\n",
       "      <td>5785</td>\n",
       "      <td>149.0</td>\n",
       "      <td>15.0</td>\n",
       "      <td>10.0</td>\n",
       "      <td>73.0</td>\n",
       "      <td>22.0</td>\n",
       "      <td>NaN</td>\n",
       "      <td>30.0</td>\n",
       "      <td>22.0</td>\n",
       "    </tr>\n",
       "    <tr>\n",
       "      <th>1</th>\n",
       "      <td>2013</td>\n",
       "      <td>Appingedam</td>\n",
       "      <td>WK000300</td>\n",
       "      <td>WK000300</td>\n",
       "      <td>BU00030007</td>\n",
       "      <td>300</td>\n",
       "      <td>Wijk 00</td>\n",
       "      <td>NaN</td>\n",
       "      <td>0.40</td>\n",
       "      <td>11.36</td>\n",
       "      <td>...</td>\n",
       "      <td>42.0</td>\n",
       "      <td>5785</td>\n",
       "      <td>149.0</td>\n",
       "      <td>15.0</td>\n",
       "      <td>10.0</td>\n",
       "      <td>73.0</td>\n",
       "      <td>22.0</td>\n",
       "      <td>NaN</td>\n",
       "      <td>30.0</td>\n",
       "      <td>22.0</td>\n",
       "    </tr>\n",
       "    <tr>\n",
       "      <th>2</th>\n",
       "      <td>2013</td>\n",
       "      <td>Appingedam</td>\n",
       "      <td>WK000300</td>\n",
       "      <td>WK000300</td>\n",
       "      <td>BU00030008</td>\n",
       "      <td>300</td>\n",
       "      <td>Wijk 00</td>\n",
       "      <td>NaN</td>\n",
       "      <td>0.41</td>\n",
       "      <td>11.85</td>\n",
       "      <td>...</td>\n",
       "      <td>42.0</td>\n",
       "      <td>5785</td>\n",
       "      <td>149.0</td>\n",
       "      <td>15.0</td>\n",
       "      <td>10.0</td>\n",
       "      <td>73.0</td>\n",
       "      <td>22.0</td>\n",
       "      <td>NaN</td>\n",
       "      <td>30.0</td>\n",
       "      <td>22.0</td>\n",
       "    </tr>\n",
       "    <tr>\n",
       "      <th>3</th>\n",
       "      <td>2013</td>\n",
       "      <td>Appingedam</td>\n",
       "      <td>WK000300</td>\n",
       "      <td>WK000300</td>\n",
       "      <td>BU00030001</td>\n",
       "      <td>300</td>\n",
       "      <td>Wijk 00</td>\n",
       "      <td>NaN</td>\n",
       "      <td>0.44</td>\n",
       "      <td>12.32</td>\n",
       "      <td>...</td>\n",
       "      <td>42.0</td>\n",
       "      <td>5785</td>\n",
       "      <td>149.0</td>\n",
       "      <td>15.0</td>\n",
       "      <td>10.0</td>\n",
       "      <td>73.0</td>\n",
       "      <td>22.0</td>\n",
       "      <td>NaN</td>\n",
       "      <td>30.0</td>\n",
       "      <td>22.0</td>\n",
       "    </tr>\n",
       "    <tr>\n",
       "      <th>4</th>\n",
       "      <td>2013</td>\n",
       "      <td>Appingedam</td>\n",
       "      <td>WK000300</td>\n",
       "      <td>WK000300</td>\n",
       "      <td>BU00030009</td>\n",
       "      <td>300</td>\n",
       "      <td>Wijk 00</td>\n",
       "      <td>NaN</td>\n",
       "      <td>0.42</td>\n",
       "      <td>11.90</td>\n",
       "      <td>...</td>\n",
       "      <td>42.0</td>\n",
       "      <td>5785</td>\n",
       "      <td>149.0</td>\n",
       "      <td>15.0</td>\n",
       "      <td>10.0</td>\n",
       "      <td>73.0</td>\n",
       "      <td>22.0</td>\n",
       "      <td>NaN</td>\n",
       "      <td>30.0</td>\n",
       "      <td>22.0</td>\n",
       "    </tr>\n",
       "  </tbody>\n",
       "</table>\n",
       "<p>5 rows × 116 columns</p>\n",
       "</div>"
      ],
      "text/plain": [
       "   year     gm_naam  gwb_code gwb_code_10_x gwb_code_10_y  gwb_code_8  \\\n",
       "0  2013  Appingedam  WK000300      WK000300    BU00030000         300   \n",
       "1  2013  Appingedam  WK000300      WK000300    BU00030007         300   \n",
       "2  2013  Appingedam  WK000300      WK000300    BU00030008         300   \n",
       "3  2013  Appingedam  WK000300      WK000300    BU00030001         300   \n",
       "4  2013  Appingedam  WK000300      WK000300    BU00030009         300   \n",
       "\n",
       "     regio  fine_dust  grime  nitrogen_dioxide  ...    wcorpw  woning    woz  \\\n",
       "0  Wijk 00        NaN   0.45             12.50  ...      42.0    5785  149.0   \n",
       "1  Wijk 00        NaN   0.40             11.36  ...      42.0    5785  149.0   \n",
       "2  Wijk 00        NaN   0.41             11.85  ...      42.0    5785  149.0   \n",
       "3  Wijk 00        NaN   0.44             12.32  ...      42.0    5785  149.0   \n",
       "4  Wijk 00        NaN   0.42             11.90  ...      42.0    5785  149.0   \n",
       "\n",
       "   00_14  15_24  1gezw  25_44  3km_sc  45_64  65_oo  \n",
       "0   15.0   10.0   73.0   22.0     NaN   30.0   22.0  \n",
       "1   15.0   10.0   73.0   22.0     NaN   30.0   22.0  \n",
       "2   15.0   10.0   73.0   22.0     NaN   30.0   22.0  \n",
       "3   15.0   10.0   73.0   22.0     NaN   30.0   22.0  \n",
       "4   15.0   10.0   73.0   22.0     NaN   30.0   22.0  \n",
       "\n",
       "[5 rows x 116 columns]"
      ]
     },
     "execution_count": 87,
     "metadata": {},
     "output_type": "execute_result"
    }
   ],
   "source": [
    "data.head()"
   ]
  },
  {
   "cell_type": "markdown",
   "metadata": {},
   "source": [
    "Select necessary data"
   ]
  },
  {
   "cell_type": "code",
   "execution_count": 88,
   "metadata": {},
   "outputs": [],
   "source": [
    "data = data[['year', 'gwb_code', 'gwb_code_10_y', 'fine_dust', 'grime', 'nitrogen_dioxide', 'woz', 'ste_mvs', 'bev_dich']].copy()"
   ]
  },
  {
   "cell_type": "code",
   "execution_count": 89,
   "metadata": {},
   "outputs": [
    {
     "data": {
      "text/html": [
       "<div>\n",
       "<style scoped>\n",
       "    .dataframe tbody tr th:only-of-type {\n",
       "        vertical-align: middle;\n",
       "    }\n",
       "\n",
       "    .dataframe tbody tr th {\n",
       "        vertical-align: top;\n",
       "    }\n",
       "\n",
       "    .dataframe thead th {\n",
       "        text-align: right;\n",
       "    }\n",
       "</style>\n",
       "<table border=\"1\" class=\"dataframe\">\n",
       "  <thead>\n",
       "    <tr style=\"text-align: right;\">\n",
       "      <th></th>\n",
       "      <th>year</th>\n",
       "      <th>fine_dust</th>\n",
       "      <th>grime</th>\n",
       "      <th>nitrogen_dioxide</th>\n",
       "      <th>woz</th>\n",
       "      <th>ste_mvs</th>\n",
       "      <th>bev_dich</th>\n",
       "    </tr>\n",
       "  </thead>\n",
       "  <tbody>\n",
       "    <tr>\n",
       "      <th>count</th>\n",
       "      <td>56539.000000</td>\n",
       "      <td>43277.000000</td>\n",
       "      <td>56539.000000</td>\n",
       "      <td>56539.000000</td>\n",
       "      <td>54865.000000</td>\n",
       "      <td>56535.000000</td>\n",
       "      <td>56467.000000</td>\n",
       "    </tr>\n",
       "    <tr>\n",
       "      <th>mean</th>\n",
       "      <td>2014.566335</td>\n",
       "      <td>18.344371</td>\n",
       "      <td>0.734351</td>\n",
       "      <td>18.191546</td>\n",
       "      <td>229.032808</td>\n",
       "      <td>3.567489</td>\n",
       "      <td>1869.145519</td>\n",
       "    </tr>\n",
       "    <tr>\n",
       "      <th>std</th>\n",
       "      <td>1.124827</td>\n",
       "      <td>2.280735</td>\n",
       "      <td>0.227181</td>\n",
       "      <td>5.369772</td>\n",
       "      <td>78.322006</td>\n",
       "      <td>1.405672</td>\n",
       "      <td>2735.358676</td>\n",
       "    </tr>\n",
       "    <tr>\n",
       "      <th>min</th>\n",
       "      <td>2013.000000</td>\n",
       "      <td>12.960000</td>\n",
       "      <td>0.230000</td>\n",
       "      <td>7.020000</td>\n",
       "      <td>38.000000</td>\n",
       "      <td>1.000000</td>\n",
       "      <td>1.000000</td>\n",
       "    </tr>\n",
       "    <tr>\n",
       "      <th>25%</th>\n",
       "      <td>2014.000000</td>\n",
       "      <td>16.790000</td>\n",
       "      <td>0.550000</td>\n",
       "      <td>13.850000</td>\n",
       "      <td>180.000000</td>\n",
       "      <td>2.000000</td>\n",
       "      <td>132.000000</td>\n",
       "    </tr>\n",
       "    <tr>\n",
       "      <th>50%</th>\n",
       "      <td>2015.000000</td>\n",
       "      <td>18.500000</td>\n",
       "      <td>0.760000</td>\n",
       "      <td>17.940000</td>\n",
       "      <td>218.000000</td>\n",
       "      <td>4.000000</td>\n",
       "      <td>585.000000</td>\n",
       "    </tr>\n",
       "    <tr>\n",
       "      <th>75%</th>\n",
       "      <td>2016.000000</td>\n",
       "      <td>19.890000</td>\n",
       "      <td>0.890000</td>\n",
       "      <td>21.790000</td>\n",
       "      <td>262.000000</td>\n",
       "      <td>5.000000</td>\n",
       "      <td>2774.000000</td>\n",
       "    </tr>\n",
       "    <tr>\n",
       "      <th>max</th>\n",
       "      <td>2016.000000</td>\n",
       "      <td>27.530000</td>\n",
       "      <td>1.780000</td>\n",
       "      <td>37.370000</td>\n",
       "      <td>1307.000000</td>\n",
       "      <td>5.000000</td>\n",
       "      <td>28338.000000</td>\n",
       "    </tr>\n",
       "  </tbody>\n",
       "</table>\n",
       "</div>"
      ],
      "text/plain": [
       "               year     fine_dust         grime  nitrogen_dioxide  \\\n",
       "count  56539.000000  43277.000000  56539.000000      56539.000000   \n",
       "mean    2014.566335     18.344371      0.734351         18.191546   \n",
       "std        1.124827      2.280735      0.227181          5.369772   \n",
       "min     2013.000000     12.960000      0.230000          7.020000   \n",
       "25%     2014.000000     16.790000      0.550000         13.850000   \n",
       "50%     2015.000000     18.500000      0.760000         17.940000   \n",
       "75%     2016.000000     19.890000      0.890000         21.790000   \n",
       "max     2016.000000     27.530000      1.780000         37.370000   \n",
       "\n",
       "                woz       ste_mvs      bev_dich  \n",
       "count  54865.000000  56535.000000  56467.000000  \n",
       "mean     229.032808      3.567489   1869.145519  \n",
       "std       78.322006      1.405672   2735.358676  \n",
       "min       38.000000      1.000000      1.000000  \n",
       "25%      180.000000      2.000000    132.000000  \n",
       "50%      218.000000      4.000000    585.000000  \n",
       "75%      262.000000      5.000000   2774.000000  \n",
       "max     1307.000000      5.000000  28338.000000  "
      ]
     },
     "execution_count": 89,
     "metadata": {},
     "output_type": "execute_result"
    }
   ],
   "source": [
    "data.describe()"
   ]
  },
  {
   "cell_type": "code",
   "execution_count": 90,
   "metadata": {},
   "outputs": [
    {
     "data": {
      "text/plain": [
       "array([<matplotlib.axes._subplots.AxesSubplot object at 0x000002274EA95C50>,\n",
       "       <matplotlib.axes._subplots.AxesSubplot object at 0x000002274EA8ABE0>,\n",
       "       <matplotlib.axes._subplots.AxesSubplot object at 0x000002274EA81550>,\n",
       "       <matplotlib.axes._subplots.AxesSubplot object at 0x000002274EA73550>,\n",
       "       <matplotlib.axes._subplots.AxesSubplot object at 0x0000022753CF2DD8>,\n",
       "       <matplotlib.axes._subplots.AxesSubplot object at 0x0000022753CF2E10>,\n",
       "       <matplotlib.axes._subplots.AxesSubplot object at 0x000002275860E0F0>],\n",
       "      dtype=object)"
      ]
     },
     "execution_count": 90,
     "metadata": {},
     "output_type": "execute_result"
    },
    {
     "data": {
      "image/png": "[encoded data removed]",
      "text/plain": [
       "<Figure size 432x288 with 7 Axes>"
      ]
     },
     "metadata": {},
     "output_type": "display_data"
    }
   ],
   "source": [
    "data.plot(subplots=True)"
   ]
  },
  {
   "cell_type": "code",
   "execution_count": 91,
   "metadata": {},
   "outputs": [],
   "source": [
    "postcode = pd.read_csv('./postcode.csv')"
   ]
  },
  {
   "cell_type": "code",
   "execution_count": 92,
   "metadata": {},
   "outputs": [],
   "source": [
    "data  = data.merge(postcode, on='gwb_code_10_y')"
   ]
  },
  {
   "cell_type": "code",
   "execution_count": 101,
   "metadata": {},
   "outputs": [],
   "source": [
    "data.head()\n",
    "data.to_csv('./hoi.csv')"
   ]
  },
  {
   "cell_type": "code",
   "execution_count": 100,
   "metadata": {},
   "outputs": [],
   "source": [
    "statuscode = pd.read_csv('./statuscode.csv')"
   ]
  },
  {
   "cell_type": "code",
   "execution_count": 95,
   "metadata": {},
   "outputs": [
    {
     "ename": "ValueError",
     "evalue": "You are trying to merge on object and int64 columns. If you wish to proceed you should use pd.concat",
     "output_type": "error",
     "traceback": [
      "\u001b[1;31m---------------------------------------------------------------------------\u001b[0m",
      "\u001b[1;31mValueError\u001b[0m                                Traceback (most recent call last)",
      "\u001b[1;32m<ipython-input-95-355f5584a314>\u001b[0m in \u001b[0;36m<module>\u001b[1;34m()\u001b[0m\n\u001b[1;32m----> 1\u001b[1;33m \u001b[0mdata\u001b[0m \u001b[1;33m=\u001b[0m \u001b[0mdata\u001b[0m\u001b[1;33m.\u001b[0m\u001b[0mmerge\u001b[0m\u001b[1;33m(\u001b[0m\u001b[0mstatuscode\u001b[0m\u001b[1;33m,\u001b[0m \u001b[0mleft_on\u001b[0m\u001b[1;33m=\u001b[0m\u001b[1;34m'pst_mvp'\u001b[0m\u001b[1;33m,\u001b[0m \u001b[0mright_on\u001b[0m\u001b[1;33m=\u001b[0m\u001b[1;34m'pcnr'\u001b[0m\u001b[1;33m)\u001b[0m\u001b[1;33m\u001b[0m\u001b[0m\n\u001b[0m",
      "\u001b[1;32mC:\\ProgramData\\Anaconda3\\lib\\site-packages\\pandas\\core\\frame.py\u001b[0m in \u001b[0;36mmerge\u001b[1;34m(self, right, how, on, left_on, right_on, left_index, right_index, sort, suffixes, copy, indicator, validate)\u001b[0m\n\u001b[0;32m   6387\u001b[0m                      \u001b[0mright_on\u001b[0m\u001b[1;33m=\u001b[0m\u001b[0mright_on\u001b[0m\u001b[1;33m,\u001b[0m \u001b[0mleft_index\u001b[0m\u001b[1;33m=\u001b[0m\u001b[0mleft_index\u001b[0m\u001b[1;33m,\u001b[0m\u001b[1;33m\u001b[0m\u001b[0m\n\u001b[0;32m   6388\u001b[0m                      \u001b[0mright_index\u001b[0m\u001b[1;33m=\u001b[0m\u001b[0mright_index\u001b[0m\u001b[1;33m,\u001b[0m \u001b[0msort\u001b[0m\u001b[1;33m=\u001b[0m\u001b[0msort\u001b[0m\u001b[1;33m,\u001b[0m \u001b[0msuffixes\u001b[0m\u001b[1;33m=\u001b[0m\u001b[0msuffixes\u001b[0m\u001b[1;33m,\u001b[0m\u001b[1;33m\u001b[0m\u001b[0m\n\u001b[1;32m-> 6389\u001b[1;33m                      copy=copy, indicator=indicator, validate=validate)\n\u001b[0m\u001b[0;32m   6390\u001b[0m \u001b[1;33m\u001b[0m\u001b[0m\n\u001b[0;32m   6391\u001b[0m     \u001b[1;32mdef\u001b[0m \u001b[0mround\u001b[0m\u001b[1;33m(\u001b[0m\u001b[0mself\u001b[0m\u001b[1;33m,\u001b[0m \u001b[0mdecimals\u001b[0m\u001b[1;33m=\u001b[0m\u001b[1;36m0\u001b[0m\u001b[1;33m,\u001b[0m \u001b[1;33m*\u001b[0m\u001b[0margs\u001b[0m\u001b[1;33m,\u001b[0m \u001b[1;33m**\u001b[0m\u001b[0mkwargs\u001b[0m\u001b[1;33m)\u001b[0m\u001b[1;33m:\u001b[0m\u001b[1;33m\u001b[0m\u001b[0m\n",
      "\u001b[1;32mC:\\ProgramData\\Anaconda3\\lib\\site-packages\\pandas\\core\\reshape\\merge.py\u001b[0m in \u001b[0;36mmerge\u001b[1;34m(left, right, how, on, left_on, right_on, left_index, right_index, sort, suffixes, copy, indicator, validate)\u001b[0m\n\u001b[0;32m     59\u001b[0m                          \u001b[0mright_index\u001b[0m\u001b[1;33m=\u001b[0m\u001b[0mright_index\u001b[0m\u001b[1;33m,\u001b[0m \u001b[0msort\u001b[0m\u001b[1;33m=\u001b[0m\u001b[0msort\u001b[0m\u001b[1;33m,\u001b[0m \u001b[0msuffixes\u001b[0m\u001b[1;33m=\u001b[0m\u001b[0msuffixes\u001b[0m\u001b[1;33m,\u001b[0m\u001b[1;33m\u001b[0m\u001b[0m\n\u001b[0;32m     60\u001b[0m                          \u001b[0mcopy\u001b[0m\u001b[1;33m=\u001b[0m\u001b[0mcopy\u001b[0m\u001b[1;33m,\u001b[0m \u001b[0mindicator\u001b[0m\u001b[1;33m=\u001b[0m\u001b[0mindicator\u001b[0m\u001b[1;33m,\u001b[0m\u001b[1;33m\u001b[0m\u001b[0m\n\u001b[1;32m---> 61\u001b[1;33m                          validate=validate)\n\u001b[0m\u001b[0;32m     62\u001b[0m     \u001b[1;32mreturn\u001b[0m \u001b[0mop\u001b[0m\u001b[1;33m.\u001b[0m\u001b[0mget_result\u001b[0m\u001b[1;33m(\u001b[0m\u001b[1;33m)\u001b[0m\u001b[1;33m\u001b[0m\u001b[0m\n\u001b[0;32m     63\u001b[0m \u001b[1;33m\u001b[0m\u001b[0m\n",
      "\u001b[1;32mC:\\ProgramData\\Anaconda3\\lib\\site-packages\\pandas\\core\\reshape\\merge.py\u001b[0m in \u001b[0;36m__init__\u001b[1;34m(self, left, right, how, on, left_on, right_on, axis, left_index, right_index, sort, suffixes, copy, indicator, validate)\u001b[0m\n\u001b[0;32m    553\u001b[0m         \u001b[1;31m# validate the merge keys dtypes. We may need to coerce\u001b[0m\u001b[1;33m\u001b[0m\u001b[1;33m\u001b[0m\u001b[0m\n\u001b[0;32m    554\u001b[0m         \u001b[1;31m# to avoid incompat dtypes\u001b[0m\u001b[1;33m\u001b[0m\u001b[1;33m\u001b[0m\u001b[0m\n\u001b[1;32m--> 555\u001b[1;33m         \u001b[0mself\u001b[0m\u001b[1;33m.\u001b[0m\u001b[0m_maybe_coerce_merge_keys\u001b[0m\u001b[1;33m(\u001b[0m\u001b[1;33m)\u001b[0m\u001b[1;33m\u001b[0m\u001b[0m\n\u001b[0m\u001b[0;32m    556\u001b[0m \u001b[1;33m\u001b[0m\u001b[0m\n\u001b[0;32m    557\u001b[0m         \u001b[1;31m# If argument passed to validate,\u001b[0m\u001b[1;33m\u001b[0m\u001b[1;33m\u001b[0m\u001b[0m\n",
      "\u001b[1;32mC:\\ProgramData\\Anaconda3\\lib\\site-packages\\pandas\\core\\reshape\\merge.py\u001b[0m in \u001b[0;36m_maybe_coerce_merge_keys\u001b[1;34m(self)\u001b[0m\n\u001b[0;32m    984\u001b[0m             elif (not is_numeric_dtype(lk)\n\u001b[0;32m    985\u001b[0m                     and (is_numeric_dtype(rk) and not is_bool_dtype(rk))):\n\u001b[1;32m--> 986\u001b[1;33m                 \u001b[1;32mraise\u001b[0m \u001b[0mValueError\u001b[0m\u001b[1;33m(\u001b[0m\u001b[0mmsg\u001b[0m\u001b[1;33m)\u001b[0m\u001b[1;33m\u001b[0m\u001b[0m\n\u001b[0m\u001b[0;32m    987\u001b[0m             \u001b[1;32melif\u001b[0m \u001b[0mis_datetimelike\u001b[0m\u001b[1;33m(\u001b[0m\u001b[0mlk\u001b[0m\u001b[1;33m)\u001b[0m \u001b[1;32mand\u001b[0m \u001b[1;32mnot\u001b[0m \u001b[0mis_datetimelike\u001b[0m\u001b[1;33m(\u001b[0m\u001b[0mrk\u001b[0m\u001b[1;33m)\u001b[0m\u001b[1;33m:\u001b[0m\u001b[1;33m\u001b[0m\u001b[0m\n\u001b[0;32m    988\u001b[0m                 \u001b[1;32mraise\u001b[0m \u001b[0mValueError\u001b[0m\u001b[1;33m(\u001b[0m\u001b[0mmsg\u001b[0m\u001b[1;33m)\u001b[0m\u001b[1;33m\u001b[0m\u001b[0m\n",
      "\u001b[1;31mValueError\u001b[0m: You are trying to merge on object and int64 columns. If you wish to proceed you should use pd.concat"
     ]
    }
   ],
   "source": [
    "data = data.merge(statuscode, left_on='pst_mvp', right_on='pcnr')"
   ]
  },
  {
   "cell_type": "code",
   "execution_count": null,
   "metadata": {},
   "outputs": [],
   "source": []
  }
 ],
 "metadata": {
  "kernelspec": {
   "display_name": "Python 3",
   "language": "python",
   "name": "python3"
  },
  "language_info": {
   "codemirror_mode": {
    "name": "ipython",
    "version": 3
   },
   "file_extension": ".py",
   "mimetype": "text/x-python",
   "name": "python",
   "nbconvert_exporter": "python",
   "pygments_lexer": "ipython3",
   "version": "3.6.6"
  }
 },
 "nbformat": 4,
 "nbformat_minor": 2
}
